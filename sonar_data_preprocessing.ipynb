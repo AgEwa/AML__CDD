{
 "cells": [
  {
   "cell_type": "code",
   "execution_count": 1,
   "metadata": {},
   "outputs": [],
   "source": [
    "import pandas as pd\n",
    "from statsmodels.stats.outliers_influence import variance_inflation_factor\n",
    "import numpy as np"
   ]
  },
  {
   "cell_type": "code",
   "execution_count": 2,
   "metadata": {},
   "outputs": [],
   "source": [
    "sonar = pd.read_csv('connectionist+bench+sonar+mines+vs+rocks/sonar.all-data', header=None)\n",
    "sonar_labels = sonar.iloc[:, -1]\n",
    "sonar = sonar.iloc[:, :-1]"
   ]
  },
  {
   "cell_type": "code",
   "execution_count": 3,
   "metadata": {},
   "outputs": [
    {
     "data": {
      "text/plain": [
       "np.int64(0)"
      ]
     },
     "execution_count": 3,
     "metadata": {},
     "output_type": "execute_result"
    }
   ],
   "source": [
    "# no missing values\n",
    "sonar.isnull().sum().sum()"
   ]
  },
  {
   "cell_type": "code",
   "execution_count": 4,
   "metadata": {},
   "outputs": [
    {
     "data": {
      "text/plain": [
       "(208, 60)"
      ]
     },
     "execution_count": 4,
     "metadata": {},
     "output_type": "execute_result"
    }
   ],
   "source": [
    "sonar.shape"
   ]
  },
  {
   "cell_type": "code",
   "execution_count": 5,
   "metadata": {},
   "outputs": [
    {
     "data": {
      "text/plain": [
       "(208, 60)"
      ]
     },
     "execution_count": 5,
     "metadata": {},
     "output_type": "execute_result"
    }
   ],
   "source": [
    "# remove columns with constant values\n",
    "sonar = sonar.loc[:, (sonar != sonar.iloc[0]).any()]\n",
    "sonar.shape"
   ]
  },
  {
   "cell_type": "code",
   "execution_count": 6,
   "metadata": {},
   "outputs": [],
   "source": [
    "def remove_highly_correlated_features(df, threshold=0.7):\n",
    "    corr_matrix = df.corr().abs()\n",
    "    upper_triangle = corr_matrix.where(np.triu(np.ones(corr_matrix.shape), k=1).astype(bool))\n",
    "\n",
    "    to_drop = [column for column in upper_triangle.columns if any(upper_triangle[column] > threshold)]\n",
    "    \n",
    "    print(f\"Removing {len(to_drop)} highly correlated features.\")\n",
    "    return df.drop(columns=to_drop)"
   ]
  },
  {
   "cell_type": "code",
   "execution_count": 7,
   "metadata": {},
   "outputs": [],
   "source": [
    "def vif(X):\n",
    "    X = np.asarray(X)\n",
    "    vif_scores = [variance_inflation_factor(X, i) for i in range(X.shape[1])]\n",
    "    return np.array(vif_scores)\n",
    "\n",
    "def remove_high_vif_features(df, threshold=10):\n",
    "    df = df.copy()\n",
    "    while True:\n",
    "        vif_scores = vif(df)\n",
    "        max_vif = np.max(vif_scores)\n",
    "\n",
    "        if max_vif < threshold:\n",
    "            break\n",
    "        \n",
    "        feature_to_remove = df.columns[np.argmax(vif_scores)]\n",
    "        print(f\"Dropping {feature_to_remove} with VIF: {max_vif}\")\n",
    "\n",
    "        df.drop(columns=[feature_to_remove], inplace=True)\n",
    "    \n",
    "    return df"
   ]
  },
  {
   "cell_type": "code",
   "execution_count": 8,
   "metadata": {},
   "outputs": [
    {
     "name": "stdout",
     "output_type": "stream",
     "text": [
      "Dropping 25 with VIF: 285.09204734556056\n",
      "Dropping 22 with VIF: 226.25073394063602\n",
      "Dropping 19 with VIF: 167.2967434849508\n",
      "Dropping 27 with VIF: 160.15866373955336\n",
      "Dropping 17 with VIF: 139.67408046678466\n",
      "Dropping 29 with VIF: 123.80966195646305\n",
      "Dropping 15 with VIF: 90.06272812594621\n",
      "Dropping 35 with VIF: 76.74327427310514\n",
      "Dropping 32 with VIF: 70.93046710005616\n",
      "Dropping 10 with VIF: 66.93872990891367\n",
      "Dropping 23 with VIF: 63.42262208294637\n",
      "Dropping 20 with VIF: 51.884919220787594\n",
      "Dropping 37 with VIF: 51.64830191501168\n",
      "Dropping 12 with VIF: 50.363782177181946\n",
      "Dropping 45 with VIF: 47.76121603042287\n",
      "Dropping 42 with VIF: 43.14993362346412\n",
      "Dropping 47 with VIF: 40.25778316561585\n",
      "Dropping 30 with VIF: 34.1205798316173\n",
      "Dropping 39 with VIF: 33.70334486024496\n",
      "Dropping 13 with VIF: 29.81693051480178\n",
      "Dropping 8 with VIF: 28.15252938912821\n",
      "Dropping 33 with VIF: 27.17376200525844\n",
      "Dropping 26 with VIF: 23.564509010376742\n",
      "Dropping 18 with VIF: 19.95250766790957\n",
      "Dropping 40 with VIF: 18.953960329455143\n",
      "Dropping 6 with VIF: 18.439658807310238\n",
      "Dropping 44 with VIF: 16.574570082418944\n",
      "Dropping 24 with VIF: 13.215975713207449\n",
      "Dropping 2 with VIF: 11.996919803006556\n",
      "Dropping 16 with VIF: 11.818945660092611\n",
      "Dropping 48 with VIF: 11.743512700685889\n",
      "Dropping 5 with VIF: 10.503570439347675\n"
     ]
    }
   ],
   "source": [
    "# remove features with VIF > 10\n",
    "sonar = remove_high_vif_features(sonar)"
   ]
  },
  {
   "cell_type": "code",
   "execution_count": 9,
   "metadata": {},
   "outputs": [
    {
     "name": "stdout",
     "output_type": "stream",
     "text": [
      "Number of features left: 28\n"
     ]
    }
   ],
   "source": [
    "# check number of features left\n",
    "print(f\"Number of features left: {sonar.shape[1]}\")"
   ]
  },
  {
   "cell_type": "code",
   "execution_count": 10,
   "metadata": {},
   "outputs": [],
   "source": [
    "sonar_cleaned = sonar.copy()"
   ]
  },
  {
   "cell_type": "code",
   "execution_count": 11,
   "metadata": {},
   "outputs": [
    {
     "data": {
      "text/plain": [
       "(208, 104)"
      ]
     },
     "execution_count": 11,
     "metadata": {},
     "output_type": "execute_result"
    }
   ],
   "source": [
    "# create dummy variables\n",
    "n_obs, n_features = sonar_cleaned.shape\n",
    "min_features = n_obs // 2\n",
    "\n",
    "i = 0\n",
    "new_columns = {}\n",
    "while sonar_cleaned.shape[1] + len(new_columns) < min_features:\n",
    "    col_to_copy = np.random.choice(sonar_cleaned.columns)\n",
    "    new_columns[f\"{col_to_copy}_perm_{i}\"] = np.random.permutation(sonar_cleaned[col_to_copy].values)\n",
    "    i += 1\n",
    "\n",
    "df = pd.concat([sonar_cleaned, pd.DataFrame(new_columns)], axis=1)\n",
    "\n",
    "df.shape\n"
   ]
  },
  {
   "cell_type": "code",
   "execution_count": 12,
   "metadata": {},
   "outputs": [
    {
     "data": {
      "text/plain": [
       "0     -1\n",
       "1     -1\n",
       "2     -1\n",
       "3     -1\n",
       "4     -1\n",
       "      ..\n",
       "203    1\n",
       "204    1\n",
       "205    1\n",
       "206    1\n",
       "207    1\n",
       "Name: label, Length: 208, dtype: int64"
      ]
     },
     "execution_count": 12,
     "metadata": {},
     "output_type": "execute_result"
    }
   ],
   "source": [
    "# change labels to -1 and 1\n",
    "sonar_labels = sonar_labels.map({'M': 1, 'R': -1})\n",
    "sonar_labels.rename('label', inplace=True)"
   ]
  },
  {
   "cell_type": "code",
   "execution_count": 13,
   "metadata": {},
   "outputs": [],
   "source": [
    "df.to_csv('data/preprocessed_sonar.csv', index=False)\n",
    "sonar_labels.to_csv('data/sonar_labels.csv', index=False)"
   ]
  },
  {
   "cell_type": "code",
   "execution_count": null,
   "metadata": {},
   "outputs": [],
   "source": []
  }
 ],
 "metadata": {
  "kernelspec": {
   "display_name": "venv",
   "language": "python",
   "name": "python3"
  },
  "language_info": {
   "codemirror_mode": {
    "name": "ipython",
    "version": 3
   },
   "file_extension": ".py",
   "mimetype": "text/x-python",
   "name": "python",
   "nbconvert_exporter": "python",
   "pygments_lexer": "ipython3",
   "version": "3.12.5"
  }
 },
 "nbformat": 4,
 "nbformat_minor": 2
}
