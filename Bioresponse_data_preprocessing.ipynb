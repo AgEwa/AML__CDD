{
 "cells": [
  {
   "metadata": {
    "ExecuteTime": {
     "end_time": "2025-03-21T15:15:16.078883Z",
     "start_time": "2025-03-21T15:15:14.040915Z"
    }
   },
   "cell_type": "code",
   "source": [
    "import pandas as pd\n",
    "import numpy as np\n",
    "import openml"
   ],
   "id": "7c176f2ef54f5e22",
   "outputs": [],
   "execution_count": 1
  },
  {
   "metadata": {
    "ExecuteTime": {
     "end_time": "2025-03-21T15:15:16.406008Z",
     "start_time": "2025-03-21T15:15:16.084892Z"
    }
   },
   "cell_type": "code",
   "source": [
    "dataset = openml.datasets.get_dataset(\"4134\")\n",
    "bioresponse, bioresponse_labels, _, _ = dataset.get_data(target=dataset.default_target_attribute)\n"
   ],
   "id": "ffd979dccc26f026",
   "outputs": [],
   "execution_count": 2
  },
  {
   "metadata": {
    "ExecuteTime": {
     "end_time": "2025-03-21T15:15:16.609824Z",
     "start_time": "2025-03-21T15:15:16.598776Z"
    }
   },
   "cell_type": "code",
   "source": "np.unique(bioresponse_labels)",
   "id": "d8d8539e479ab19b",
   "outputs": [
    {
     "data": {
      "text/plain": [
       "array(['0', '1'], dtype=object)"
      ]
     },
     "execution_count": 3,
     "metadata": {},
     "output_type": "execute_result"
    }
   ],
   "execution_count": 3
  },
  {
   "metadata": {
    "ExecuteTime": {
     "end_time": "2025-03-21T15:15:16.690910Z",
     "start_time": "2025-03-21T15:15:16.655068Z"
    }
   },
   "cell_type": "code",
   "source": [
    "# no missing values\n",
    "bioresponse.isnull().sum().sum()"
   ],
   "id": "af51537b3a38311e",
   "outputs": [
    {
     "data": {
      "text/plain": [
       "np.int64(0)"
      ]
     },
     "execution_count": 4,
     "metadata": {},
     "output_type": "execute_result"
    }
   ],
   "execution_count": 4
  },
  {
   "metadata": {
    "ExecuteTime": {
     "end_time": "2025-03-21T15:15:16.816178Z",
     "start_time": "2025-03-21T15:15:16.805582Z"
    }
   },
   "cell_type": "code",
   "source": "bioresponse.shape",
   "id": "ceac57be260a8345",
   "outputs": [
    {
     "data": {
      "text/plain": [
       "(3751, 1776)"
      ]
     },
     "execution_count": 5,
     "metadata": {},
     "output_type": "execute_result"
    }
   ],
   "execution_count": 5
  },
  {
   "metadata": {
    "ExecuteTime": {
     "end_time": "2025-03-21T15:15:17.205351Z",
     "start_time": "2025-03-21T15:15:16.925933Z"
    }
   },
   "cell_type": "code",
   "source": [
    "# remove columns with constant values\n",
    "bioresponse = bioresponse.loc[:, (bioresponse != bioresponse.iloc[0]).any()]\n",
    "bioresponse.shape"
   ],
   "id": "ae2f18b3d500ac98",
   "outputs": [
    {
     "data": {
      "text/plain": [
       "(3751, 1776)"
      ]
     },
     "execution_count": 6,
     "metadata": {},
     "output_type": "execute_result"
    }
   ],
   "execution_count": 6
  },
  {
   "metadata": {
    "ExecuteTime": {
     "end_time": "2025-03-21T15:15:17.290921Z",
     "start_time": "2025-03-21T15:15:17.217910Z"
    }
   },
   "cell_type": "code",
   "source": [
    "print(bioresponse.min().min(), bioresponse.max().max())\n",
    "np.sort(bioresponse.max())[-10:]"
   ],
   "id": "2909421fa6de17cd",
   "outputs": [
    {
     "name": "stdout",
     "output_type": "stream",
     "text": [
      "0.0 1.0\n"
     ]
    },
    {
     "data": {
      "text/plain": [
       "array([1., 1., 1., 1., 1., 1., 1., 1., 1., 1.])"
      ]
     },
     "execution_count": 7,
     "metadata": {},
     "output_type": "execute_result"
    }
   ],
   "execution_count": 7
  },
  {
   "metadata": {
    "ExecuteTime": {
     "end_time": "2025-03-21T15:15:18.007096Z",
     "start_time": "2025-03-21T15:15:17.343369Z"
    }
   },
   "cell_type": "code",
   "source": [
    "from matplotlib import pyplot as plt\n",
    "\n",
    "plt.figure(figsize=(10, 6))\n",
    "plt.boxplot(bioresponse.iloc[:, :5], labels=[f\"Feature {i}\" for i in range(1, 6)])\n",
    "plt.title(\"Boxplot of First 5 Scaled Features\")\n",
    "plt.show()\n",
    "\n",
    "# Label Distribution\n",
    "train_label_counts = bioresponse_labels.value_counts()\n",
    "print(\"\\nTraining Label Distribution:\\n\", train_label_counts)"
   ],
   "id": "293b55ac1dc690b6",
   "outputs": [
    {
     "name": "stderr",
     "output_type": "stream",
     "text": [
      "C:\\Users\\agata\\AppData\\Local\\Temp\\ipykernel_34844\\197998380.py:4: MatplotlibDeprecationWarning: The 'labels' parameter of boxplot() has been renamed 'tick_labels' since Matplotlib 3.9; support for the old name will be dropped in 3.11.\n",
      "  plt.boxplot(bioresponse.iloc[:, :5], labels=[f\"Feature {i}\" for i in range(1, 6)])\n"
     ]
    },
    {
     "data": {
      "text/plain": [
       "<Figure size 1000x600 with 1 Axes>"
      ],
      "image/png": "[encoded data removed]"
     },
     "metadata": {},
     "output_type": "display_data"
    },
    {
     "name": "stdout",
     "output_type": "stream",
     "text": [
      "\n",
      "Training Label Distribution:\n",
      " target\n",
      "1    2034\n",
      "0    1717\n",
      "Name: count, dtype: int64\n"
     ]
    }
   ],
   "execution_count": 8
  },
  {
   "metadata": {
    "ExecuteTime": {
     "end_time": "2025-03-21T15:15:18.049738Z",
     "start_time": "2025-03-21T15:15:18.043114Z"
    }
   },
   "cell_type": "code",
   "source": [
    "def remove_highly_correlated_features(df, threshold=0.7):\n",
    "    corr_matrix = df.corr().abs()\n",
    "    upper_triangle = corr_matrix.where(np.triu(np.ones(corr_matrix.shape), k=1).astype(bool))\n",
    "\n",
    "    to_drop = [column for column in upper_triangle.columns if any(upper_triangle[column] > threshold)]\n",
    "    \n",
    "    print(f\"Removing {len(to_drop)} highly correlated features.\")\n",
    "    return df.drop(columns=to_drop)"
   ],
   "id": "2a16becac4d87a3d",
   "outputs": [],
   "execution_count": 9
  },
  {
   "metadata": {
    "ExecuteTime": {
     "end_time": "2025-03-21T15:15:46.083546Z",
     "start_time": "2025-03-21T15:15:18.076680Z"
    }
   },
   "cell_type": "code",
   "source": [
    "# remove features with VIF > 10\n",
    "bioresponse = remove_highly_correlated_features(bioresponse)"
   ],
   "id": "281b8e955a01fda9",
   "outputs": [
    {
     "name": "stdout",
     "output_type": "stream",
     "text": [
      "Removing 699 highly correlated features.\n"
     ]
    }
   ],
   "execution_count": 10
  },
  {
   "metadata": {
    "ExecuteTime": {
     "end_time": "2025-03-21T15:15:46.110951Z",
     "start_time": "2025-03-21T15:15:46.105653Z"
    }
   },
   "cell_type": "code",
   "source": [
    "# check number of features left\n",
    "print(f\"Number of features left: {bioresponse.shape[1]}\")"
   ],
   "id": "859bd4cfccd507d9",
   "outputs": [
    {
     "name": "stdout",
     "output_type": "stream",
     "text": [
      "Number of features left: 1077\n"
     ]
    }
   ],
   "execution_count": 11
  },
  {
   "metadata": {
    "ExecuteTime": {
     "end_time": "2025-03-21T15:15:46.166591Z",
     "start_time": "2025-03-21T15:15:46.153905Z"
    }
   },
   "cell_type": "code",
   "source": "bioresponse_cleaned = bioresponse.copy()",
   "id": "85f1ce1378269658",
   "outputs": [],
   "execution_count": 12
  },
  {
   "metadata": {
    "ExecuteTime": {
     "end_time": "2025-03-21T15:15:46.499738Z",
     "start_time": "2025-03-21T15:15:46.206357Z"
    }
   },
   "cell_type": "code",
   "source": [
    "# create dummy variables\n",
    "n_obs, n_features = bioresponse_cleaned.shape\n",
    "min_features = n_obs // 2\n",
    "\n",
    "i = 0\n",
    "new_columns = {}\n",
    "while bioresponse_cleaned.shape[1] + len(new_columns) < min_features:\n",
    "    col_to_copy = np.random.choice(bioresponse_cleaned.columns)\n",
    "    new_columns[f\"{col_to_copy}_perm_{i}\"] = np.random.permutation(bioresponse_cleaned[col_to_copy].values)\n",
    "    i += 1\n",
    "\n",
    "df = pd.concat([bioresponse_cleaned, pd.DataFrame(new_columns)], axis=1)\n",
    "\n",
    "df.shape\n"
   ],
   "id": "81d4e8754d1542fa",
   "outputs": [
    {
     "data": {
      "text/plain": [
       "(3751, 1875)"
      ]
     },
     "execution_count": 13,
     "metadata": {},
     "output_type": "execute_result"
    }
   ],
   "execution_count": 13
  },
  {
   "metadata": {
    "ExecuteTime": {
     "end_time": "2025-03-21T15:15:46.552956Z",
     "start_time": "2025-03-21T15:15:46.538715Z"
    }
   },
   "cell_type": "code",
   "source": [
    "# change labels to -1 and 1\n",
    "bioresponse_labels = bioresponse_labels.map({'1': 1, '0': 0})\n",
    "bioresponse_labels.rename('label', inplace=True)"
   ],
   "id": "529016f5b33e72ac",
   "outputs": [
    {
     "data": {
      "text/plain": [
       "0       1\n",
       "1       1\n",
       "2       1\n",
       "3       1\n",
       "4       0\n",
       "       ..\n",
       "3746    1\n",
       "3747    1\n",
       "3748    0\n",
       "3749    1\n",
       "3750    0\n",
       "Name: label, Length: 3751, dtype: category\n",
       "Categories (2, int64): [0 < 1]"
      ]
     },
     "execution_count": 14,
     "metadata": {},
     "output_type": "execute_result"
    }
   ],
   "execution_count": 14
  },
  {
   "metadata": {
    "ExecuteTime": {
     "end_time": "2025-03-21T15:15:46.719623Z",
     "start_time": "2025-03-21T15:15:46.670610Z"
    }
   },
   "cell_type": "code",
   "source": [
    "df = pd.concat([df, bioresponse_labels], axis=1)\n",
    "\n",
    "df.shape"
   ],
   "id": "5e8467b8eee0014f",
   "outputs": [
    {
     "data": {
      "text/plain": [
       "(3751, 1876)"
      ]
     },
     "execution_count": 15,
     "metadata": {},
     "output_type": "execute_result"
    }
   ],
   "execution_count": 15
  },
  {
   "metadata": {
    "ExecuteTime": {
     "end_time": "2025-03-21T15:17:11.749870Z",
     "start_time": "2025-03-21T15:17:11.701652Z"
    }
   },
   "cell_type": "code",
   "source": "df.head(3)",
   "id": "1490aa60aa2bd15",
   "outputs": [
    {
     "data": {
      "text/plain": [
       "         D1        D2    D3   D4        D5        D6        D8       D11  \\\n",
       "0  0.000000  0.497009  0.10  0.0  0.132956  0.678031  0.585445  0.187856   \n",
       "1  0.366667  0.606291  0.05  0.0  0.111209  0.803455  0.411754  0.101382   \n",
       "2  0.033300  0.480124  0.00  0.0  0.209791  0.610350  0.517720  0.193548   \n",
       "\n",
       "      D12       D13  ...  D1407_perm_789  D247_perm_790  D730_perm_791  \\\n",
       "0  0.0000  0.000000  ...               0            0.0            0.0   \n",
       "1  0.1875  0.193548  ...               0            0.0            0.0   \n",
       "2  0.1250  0.000000  ...               0            0.0            0.0   \n",
       "\n",
       "   D785_perm_792  D1033_perm_793  D489_perm_794  D1145_perm_795  \\\n",
       "0            0.0               1            0.0               0   \n",
       "1            0.0               0            0.0               0   \n",
       "2            0.0               0            0.0               1   \n",
       "\n",
       "   D976_perm_796  D14_perm_797  label  \n",
       "0              1      0.211894      1  \n",
       "1              0      0.122987      1  \n",
       "2              1      0.107734      1  \n",
       "\n",
       "[3 rows x 1876 columns]"
      ],
      "text/html": [
       "<div>\n",
       "<style scoped>\n",
       "    .dataframe tbody tr th:only-of-type {\n",
       "        vertical-align: middle;\n",
       "    }\n",
       "\n",
       "    .dataframe tbody tr th {\n",
       "        vertical-align: top;\n",
       "    }\n",
       "\n",
       "    .dataframe thead th {\n",
       "        text-align: right;\n",
       "    }\n",
       "</style>\n",
       "<table border=\"1\" class=\"dataframe\">\n",
       "  <thead>\n",
       "    <tr style=\"text-align: right;\">\n",
       "      <th></th>\n",
       "      <th>D1</th>\n",
       "      <th>D2</th>\n",
       "      <th>D3</th>\n",
       "      <th>D4</th>\n",
       "      <th>D5</th>\n",
       "      <th>D6</th>\n",
       "      <th>D8</th>\n",
       "      <th>D11</th>\n",
       "      <th>D12</th>\n",
       "      <th>D13</th>\n",
       "      <th>...</th>\n",
       "      <th>D1407_perm_789</th>\n",
       "      <th>D247_perm_790</th>\n",
       "      <th>D730_perm_791</th>\n",
       "      <th>D785_perm_792</th>\n",
       "      <th>D1033_perm_793</th>\n",
       "      <th>D489_perm_794</th>\n",
       "      <th>D1145_perm_795</th>\n",
       "      <th>D976_perm_796</th>\n",
       "      <th>D14_perm_797</th>\n",
       "      <th>label</th>\n",
       "    </tr>\n",
       "  </thead>\n",
       "  <tbody>\n",
       "    <tr>\n",
       "      <th>0</th>\n",
       "      <td>0.000000</td>\n",
       "      <td>0.497009</td>\n",
       "      <td>0.10</td>\n",
       "      <td>0.0</td>\n",
       "      <td>0.132956</td>\n",
       "      <td>0.678031</td>\n",
       "      <td>0.585445</td>\n",
       "      <td>0.187856</td>\n",
       "      <td>0.0000</td>\n",
       "      <td>0.000000</td>\n",
       "      <td>...</td>\n",
       "      <td>0</td>\n",
       "      <td>0.0</td>\n",
       "      <td>0.0</td>\n",
       "      <td>0.0</td>\n",
       "      <td>1</td>\n",
       "      <td>0.0</td>\n",
       "      <td>0</td>\n",
       "      <td>1</td>\n",
       "      <td>0.211894</td>\n",
       "      <td>1</td>\n",
       "    </tr>\n",
       "    <tr>\n",
       "      <th>1</th>\n",
       "      <td>0.366667</td>\n",
       "      <td>0.606291</td>\n",
       "      <td>0.05</td>\n",
       "      <td>0.0</td>\n",
       "      <td>0.111209</td>\n",
       "      <td>0.803455</td>\n",
       "      <td>0.411754</td>\n",
       "      <td>0.101382</td>\n",
       "      <td>0.1875</td>\n",
       "      <td>0.193548</td>\n",
       "      <td>...</td>\n",
       "      <td>0</td>\n",
       "      <td>0.0</td>\n",
       "      <td>0.0</td>\n",
       "      <td>0.0</td>\n",
       "      <td>0</td>\n",
       "      <td>0.0</td>\n",
       "      <td>0</td>\n",
       "      <td>0</td>\n",
       "      <td>0.122987</td>\n",
       "      <td>1</td>\n",
       "    </tr>\n",
       "    <tr>\n",
       "      <th>2</th>\n",
       "      <td>0.033300</td>\n",
       "      <td>0.480124</td>\n",
       "      <td>0.00</td>\n",
       "      <td>0.0</td>\n",
       "      <td>0.209791</td>\n",
       "      <td>0.610350</td>\n",
       "      <td>0.517720</td>\n",
       "      <td>0.193548</td>\n",
       "      <td>0.1250</td>\n",
       "      <td>0.000000</td>\n",
       "      <td>...</td>\n",
       "      <td>0</td>\n",
       "      <td>0.0</td>\n",
       "      <td>0.0</td>\n",
       "      <td>0.0</td>\n",
       "      <td>0</td>\n",
       "      <td>0.0</td>\n",
       "      <td>1</td>\n",
       "      <td>1</td>\n",
       "      <td>0.107734</td>\n",
       "      <td>1</td>\n",
       "    </tr>\n",
       "  </tbody>\n",
       "</table>\n",
       "<p>3 rows × 1876 columns</p>\n",
       "</div>"
      ]
     },
     "execution_count": 20,
     "metadata": {},
     "output_type": "execute_result"
    }
   ],
   "execution_count": 20
  },
  {
   "metadata": {
    "ExecuteTime": {
     "end_time": "2025-03-21T15:15:51.418344Z",
     "start_time": "2025-03-21T15:15:47.466907Z"
    }
   },
   "cell_type": "code",
   "source": "df.to_csv('data/preprocessed_bioresponse.csv', index=False, header = False)",
   "id": "33071520530e352d",
   "outputs": [],
   "execution_count": 17
  }
 ],
 "metadata": {
  "kernelspec": {
   "name": "python3",
   "language": "python",
   "display_name": "Python 3 (ipykernel)"
  }
 },
 "nbformat": 5,
 "nbformat_minor": 9
}
