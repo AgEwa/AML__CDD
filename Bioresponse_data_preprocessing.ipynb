{
 "cells": [
  {
   "metadata": {},
   "cell_type": "code",
   "outputs": [],
   "execution_count": null,
   "source": [
    "import pandas as pd\n",
    "import numpy as np\n",
    "import openml"
   ],
   "id": "7c176f2ef54f5e22"
  },
  {
   "metadata": {},
   "cell_type": "code",
   "outputs": [],
   "execution_count": null,
   "source": [
    "dataset = openml.datasets.get_dataset(\"4134\")\n",
    "bioresponse, bioresponse_labels, _, _ = dataset.get_data(target=dataset.default_target_attribute)\n"
   ],
   "id": "ffd979dccc26f026"
  },
  {
   "metadata": {},
   "cell_type": "code",
   "outputs": [],
   "execution_count": null,
   "source": "np.unique(bioresponse_labels)",
   "id": "d8d8539e479ab19b"
  },
  {
   "metadata": {},
   "cell_type": "code",
   "outputs": [],
   "execution_count": null,
   "source": [
    "# no missing values\n",
    "bioresponse.isnull().sum().sum()"
   ],
   "id": "af51537b3a38311e"
  },
  {
   "metadata": {},
   "cell_type": "code",
   "outputs": [],
   "execution_count": null,
   "source": "bioresponse.shape",
   "id": "ceac57be260a8345"
  },
  {
   "metadata": {},
   "cell_type": "code",
   "outputs": [],
   "execution_count": null,
   "source": [
    "# remove columns with constant values\n",
    "bioresponse = bioresponse.loc[:, (bioresponse != bioresponse.iloc[0]).any()]\n",
    "bioresponse.shape"
   ],
   "id": "ae2f18b3d500ac98"
  },
  {
   "metadata": {},
   "cell_type": "code",
   "outputs": [],
   "execution_count": null,
   "source": [
    "print(bioresponse.min().min(), bioresponse.max().max())\n",
    "np.sort(bioresponse.max())[-10:]"
   ],
   "id": "2909421fa6de17cd"
  },
  {
   "metadata": {},
   "cell_type": "code",
   "outputs": [],
   "execution_count": null,
   "source": [
    "from matplotlib import pyplot as plt\n",
    "\n",
    "plt.figure(figsize=(10, 6))\n",
    "plt.boxplot(bioresponse.iloc[:, :5], labels=[f\"Feature {i}\" for i in range(1, 6)])\n",
    "plt.title(\"Boxplot of First 5 Scaled Features\")\n",
    "plt.show()\n",
    "\n",
    "# Label Distribution\n",
    "train_label_counts = bioresponse_labels.value_counts()\n",
    "print(\"\\nTraining Label Distribution:\\n\", train_label_counts)"
   ],
   "id": "293b55ac1dc690b6"
  },
  {
   "metadata": {},
   "cell_type": "code",
   "outputs": [],
   "execution_count": null,
   "source": [
    "def remove_highly_correlated_features(df, threshold=0.7):\n",
    "    corr_matrix = df.corr().abs()\n",
    "    upper_triangle = corr_matrix.where(np.triu(np.ones(corr_matrix.shape), k=1).astype(bool))\n",
    "\n",
    "    to_drop = [column for column in upper_triangle.columns if any(upper_triangle[column] > threshold)]\n",
    "    \n",
    "    print(f\"Removing {len(to_drop)} highly correlated features.\")\n",
    "    return df.drop(columns=to_drop)"
   ],
   "id": "2a16becac4d87a3d"
  },
  {
   "metadata": {},
   "cell_type": "code",
   "outputs": [],
   "execution_count": null,
   "source": [
    "# remove features with VIF > 10\n",
    "bioresponse = remove_highly_correlated_features(bioresponse)"
   ],
   "id": "281b8e955a01fda9"
  },
  {
   "metadata": {},
   "cell_type": "code",
   "outputs": [],
   "execution_count": null,
   "source": [
    "# check number of features left\n",
    "print(f\"Number of features left: {bioresponse.shape[1]}\")"
   ],
   "id": "859bd4cfccd507d9"
  },
  {
   "metadata": {},
   "cell_type": "code",
   "outputs": [],
   "execution_count": null,
   "source": "bioresponse_cleaned = bioresponse.copy()",
   "id": "85f1ce1378269658"
  },
  {
   "metadata": {},
   "cell_type": "code",
   "outputs": [],
   "execution_count": null,
   "source": [
    "# create dummy variables\n",
    "n_obs, n_features = bioresponse_cleaned.shape\n",
    "min_features = n_obs // 2\n",
    "\n",
    "i = 0\n",
    "new_columns = {}\n",
    "while bioresponse_cleaned.shape[1] + len(new_columns) < min_features:\n",
    "    col_to_copy = np.random.choice(bioresponse_cleaned.columns)\n",
    "    new_columns[f\"{col_to_copy}_perm_{i}\"] = np.random.permutation(bioresponse_cleaned[col_to_copy].values)\n",
    "    i += 1\n",
    "\n",
    "df = pd.concat([bioresponse_cleaned, pd.DataFrame(new_columns)], axis=1)\n",
    "\n",
    "df.shape\n"
   ],
   "id": "81d4e8754d1542fa"
  },
  {
   "metadata": {},
   "cell_type": "code",
   "outputs": [],
   "execution_count": null,
   "source": [
    "# change labels to -1 and 1\n",
    "bioresponse_labels = bioresponse_labels.map({'1': 1, '0': -1})\n",
    "bioresponse_labels.rename('label', inplace=True)"
   ],
   "id": "529016f5b33e72ac"
  },
  {
   "metadata": {},
   "cell_type": "code",
   "outputs": [],
   "execution_count": null,
   "source": [
    "df.to_csv('data/preprocessed_bioresponse.csv', index=False)\n",
    "bioresponse_labels.to_csv('data/bioresponse_labels.csv', index=False)"
   ],
   "id": "33071520530e352d"
  },
  {
   "metadata": {},
   "cell_type": "code",
   "outputs": [],
   "execution_count": null,
   "source": "",
   "id": "5dca560b76619a03"
  }
 ],
 "metadata": {},
 "nbformat": 5,
 "nbformat_minor": 9
}
