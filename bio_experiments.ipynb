{
 "cells": [
  {
   "metadata": {
    "ExecuteTime": {
     "end_time": "2025-03-29T17:37:31.975870Z",
     "start_time": "2025-03-29T17:37:29.186006Z"
    }
   },
   "cell_type": "code",
   "source": [
    "import json\n",
    "\n",
    "from mpmath import scorergi, scorerhi\n",
    "from sklearn.linear_model import LogisticRegression\n",
    "from sklearn.metrics import accuracy_score\n",
    "from sklearn.model_selection import train_test_split, cross_val_score\n",
    "from sklearn.metrics import recall_score\n",
    "from sklearn.metrics import precision_score\n",
    "from sklearn.metrics import average_precision_score\n",
    "from sklearn.metrics import f1_score\n",
    "from sklearn.metrics import balanced_accuracy_score\n",
    "from sklearn.metrics import roc_auc_score\n",
    "from sklearn.metrics import precision_recall_curve, auc\n",
    "import numpy as np\n",
    "import pandas as pd\n",
    "import matplotlib.pyplot as plt\n",
    "from scipy.special import expit\n",
    "from logreg_ccd import LogRegCCD, evaluate_model\n",
    "from real_data_experiments import get_data_splited, run_experiment\n",
    "\n",
    "np.random.seed(42)"
   ],
   "id": "3c564d249326aa55",
   "outputs": [],
   "execution_count": 1
  },
  {
   "metadata": {
    "jupyter": {
     "is_executing": true
    },
    "ExecuteTime": {
     "start_time": "2025-03-29T17:37:32.175424Z"
    }
   },
   "cell_type": "code",
   "source": "results = run_experiment('data/preprocessed_bioresponse.csv')",
   "id": "f3d46473eda1f737",
   "outputs": [],
   "execution_count": null
  },
  {
   "metadata": {
    "ExecuteTime": {
     "end_time": "2025-03-29T17:36:36.157852Z",
     "start_time": "2025-03-29T17:36:36.147179Z"
    }
   },
   "cell_type": "code",
   "source": [
    "with open('results/bioresponse.json', 'w') as file:\n",
    "    json.dump(results, file)"
   ],
   "id": "5fe3f7a697e713f3",
   "outputs": [],
   "execution_count": 7
  }
 ],
 "metadata": {
  "kernelspec": {
   "name": "python3",
   "language": "python",
   "display_name": "Python 3 (ipykernel)"
  }
 },
 "nbformat": 5,
 "nbformat_minor": 9
}
