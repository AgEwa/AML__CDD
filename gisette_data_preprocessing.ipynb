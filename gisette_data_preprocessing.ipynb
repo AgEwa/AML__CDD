{
 "cells": [
  {
   "metadata": {},
   "cell_type": "code",
   "outputs": [],
   "execution_count": null,
   "source": [
    "import pandas as pd\n",
    "from statsmodels.stats.outliers_influence import variance_inflation_factor\n",
    "import numpy as np\n",
    "import openml"
   ],
   "id": "65f9a8ad12741013"
  },
  {
   "metadata": {},
   "cell_type": "code",
   "outputs": [],
   "execution_count": null,
   "source": [
    "dataset = openml.datasets.get_dataset(\"41026\")\n",
    "gisette, gisette_labels, _, _ = dataset.get_data(target=dataset.default_target_attribute)\n"
   ],
   "id": "710b3c1e2159cd2c"
  },
  {
   "metadata": {},
   "cell_type": "code",
   "outputs": [],
   "execution_count": null,
   "source": "np.unique(gisette_labels)",
   "id": "8865cda2ea7e7947"
  },
  {
   "metadata": {},
   "cell_type": "code",
   "outputs": [],
   "execution_count": null,
   "source": [
    "# no missing values\n",
    "gisette.isnull().sum().sum()"
   ],
   "id": "4be0def0665493aa"
  },
  {
   "metadata": {},
   "cell_type": "code",
   "outputs": [],
   "execution_count": null,
   "source": "gisette.shape",
   "id": "4d3790184f814d05"
  },
  {
   "metadata": {},
   "cell_type": "code",
   "outputs": [],
   "execution_count": null,
   "source": [
    "# remove columns with constant values\n",
    "gisette = gisette.loc[:, (gisette != gisette.iloc[0]).any()]\n",
    "gisette.shape"
   ],
   "id": "9368244c61e11954"
  },
  {
   "metadata": {},
   "cell_type": "code",
   "outputs": [],
   "execution_count": null,
   "source": [
    "print(gisette.min().min(), gisette.max().max())\n",
    "np.sort(gisette.max())[-10:]"
   ],
   "id": "767a3411d76cadde"
  },
  {
   "metadata": {},
   "cell_type": "code",
   "outputs": [],
   "execution_count": null,
   "source": [
    "from matplotlib import pyplot as plt\n",
    "\n",
    "plt.figure(figsize=(10, 6))\n",
    "plt.boxplot(gisette.iloc[:, :5], labels=[f\"Feature {i}\" for i in range(1, 6)])\n",
    "plt.title(\"Boxplot of First 5 Scaled Features\")\n",
    "plt.show()\n",
    "\n",
    "# Label Distribution\n",
    "train_label_counts = gisette_labels.value_counts()\n",
    "print(\"\\nTraining Label Distribution:\\n\", train_label_counts)"
   ],
   "id": "c988e24b785b5624"
  },
  {
   "metadata": {},
   "cell_type": "code",
   "outputs": [],
   "execution_count": null,
   "source": [
    "def remove_highly_correlated_features(df, threshold=0.7):\n",
    "    corr_matrix = df.corr().abs()\n",
    "    upper_triangle = corr_matrix.where(np.triu(np.ones(corr_matrix.shape), k=1).astype(bool))\n",
    "\n",
    "    to_drop = [column for column in upper_triangle.columns if any(upper_triangle[column] > threshold)]\n",
    "    \n",
    "    print(f\"Removing {len(to_drop)} highly correlated features.\")\n",
    "    return df.drop(columns=to_drop)"
   ],
   "id": "f7518e698b368f28"
  },
  {
   "metadata": {},
   "cell_type": "code",
   "outputs": [],
   "execution_count": null,
   "source": [
    "# remove features with VIF > 10\n",
    "gisette = remove_highly_correlated_features(gisette)"
   ],
   "id": "804fd0a392a22516"
  },
  {
   "metadata": {},
   "cell_type": "code",
   "outputs": [],
   "execution_count": null,
   "source": [
    "# check number of features left\n",
    "print(f\"Number of features left: {gisette.shape[1]}\")"
   ],
   "id": "2d21f5d034f46ecf"
  },
  {
   "metadata": {},
   "cell_type": "code",
   "outputs": [],
   "execution_count": null,
   "source": "gisette_cleaned = gisette.copy()",
   "id": "3a8608e9517af61e"
  },
  {
   "metadata": {},
   "cell_type": "code",
   "outputs": [],
   "execution_count": null,
   "source": [
    "# create dummy variables\n",
    "n_obs, n_features = gisette_cleaned.shape\n",
    "min_features = n_obs // 2\n",
    "\n",
    "i = 0\n",
    "new_columns = {}\n",
    "while gisette_cleaned.shape[1] + len(new_columns) < min_features:\n",
    "    col_to_copy = np.random.choice(gisette_cleaned.columns)\n",
    "    new_columns[f\"{col_to_copy}_perm_{i}\"] = np.random.permutation(gisette_cleaned[col_to_copy].values)\n",
    "    i += 1\n",
    "\n",
    "df = pd.concat([gisette_cleaned, pd.DataFrame(new_columns)], axis=1)\n",
    "\n",
    "df.shape\n"
   ],
   "id": "f6c4d45306270113"
  },
  {
   "metadata": {},
   "cell_type": "code",
   "outputs": [],
   "execution_count": null,
   "source": [
    "# Convert to dense format (regular pandas Series)\n",
    "gisette_labels_dense = gisette_labels.sparse.to_dense()\n",
    "\n",
    "# Perform the mapping\n",
    "gisette_labels_dense = gisette_labels_dense.map({0: -1, 1: 1})\n",
    "\n",
    "# Rename the column if needed\n",
    "gisette_labels_dense.rename('label', inplace=True)\n",
    "\n",
    "# Optionally replace the original variable\n",
    "gisette_labels = gisette_labels_dense\n"
   ],
   "id": "ded83bde23904cbe"
  },
  {
   "metadata": {},
   "cell_type": "code",
   "outputs": [],
   "execution_count": null,
   "source": [
    "df.to_csv('data/preprocessed_gisette.csv', index=False)\n",
    "gisette_labels.to_csv('data/gisette_labels.csv', index=False)"
   ],
   "id": "33f559f2ac8958c5"
  },
  {
   "metadata": {},
   "cell_type": "code",
   "outputs": [],
   "execution_count": null,
   "source": "",
   "id": "253ddb1f46d6fda7"
  }
 ],
 "metadata": {},
 "nbformat": 5,
 "nbformat_minor": 9
}
