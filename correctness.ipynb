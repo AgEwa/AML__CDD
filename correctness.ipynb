{
 "cells": [
  {
   "cell_type": "markdown",
   "metadata": {},
   "source": [
    "A correctness analysis of the algorithm was conducted in this Jupyter Notebook. The experiments evaluated whether the implementation properly applied L1 regularization."
   ]
  },
  {
   "cell_type": "code",
   "execution_count": 33,
   "metadata": {},
   "outputs": [],
   "source": [
    "from logreg_ccd import LogRegCCD\n",
    "import numpy as np\n",
    "from scipy.special import expit\n",
    "import matplotlib.pyplot as plt\n",
    "import pandas as pd\n",
    "from sklearn.model_selection import train_test_split"
   ]
  },
  {
   "cell_type": "markdown",
   "metadata": {},
   "source": [
    "## Setting true values of beta"
   ]
  },
  {
   "cell_type": "code",
   "execution_count": 2,
   "metadata": {},
   "outputs": [],
   "source": [
    "def generate_logistic_data(n_samples=10000, n_features=20, n_informative=10):\n",
    "    beta_true = np.zeros(n_features)\n",
    "    beta_true[:n_informative] = 1\n",
    "\n",
    "    X = np.random.randn(n_samples, n_features)\n",
    "\n",
    "    logits = X @ beta_true\n",
    "    pi = expit(logits)\n",
    "    y = np.random.binomial(1, pi, size=n_samples)\n",
    "\n",
    "    return X, y, beta_true"
   ]
  },
  {
   "cell_type": "code",
   "execution_count": 3,
   "metadata": {},
   "outputs": [
    {
     "data": {
      "text/plain": [
       "array([ 0.5004    ,  0.49000589,  0.5066397 ,  0.44220109,  0.45898358,\n",
       "        0.47474319,  0.47461588,  0.46001358,  0.44395273,  0.47724764,\n",
       "        0.        ,  0.        ,  0.        , -0.        , -0.        ,\n",
       "        0.        ,  0.        ,  0.        , -0.        , -0.        ])"
      ]
     },
     "execution_count": 3,
     "metadata": {},
     "output_type": "execute_result"
    }
   ],
   "source": [
    "logreg_ccd = LogRegCCD()\n",
    "X_train, y_train, beta_true = generate_logistic_data()\n",
    "X_valid, y_valid, _ = generate_logistic_data()\n",
    "logreg_ccd.fit(X_train, y_train, X_valid, y_valid, np.logspace(-4, 0, 100))\n",
    "logreg_ccd.best_beta"
   ]
  },
  {
   "cell_type": "markdown",
   "metadata": {},
   "source": [
    "### Lambda = 0"
   ]
  },
  {
   "cell_type": "code",
   "execution_count": 5,
   "metadata": {},
   "outputs": [
    {
     "data": {
      "text/plain": [
       "array([ 5.04700000e-01,  9.55347254e-01,  9.00182770e-01,  9.82593051e-01,\n",
       "        9.25964018e-01,  9.34005744e-01,  9.22681673e-01,  8.86482837e-01,\n",
       "        1.02106452e+00,  1.00893621e+00,  8.25705372e-04,  8.58576523e-03,\n",
       "        1.76663547e-02,  2.83396483e-02,  2.75740965e-02,  7.67250225e-03,\n",
       "        2.02090874e-02, -3.91529064e-02, -3.83349086e-02,  2.89794554e-02])"
      ]
     },
     "execution_count": 5,
     "metadata": {},
     "output_type": "execute_result"
    }
   ],
   "source": [
    "logreg_ccd = LogRegCCD()\n",
    "X_train, y_train, beta_true = generate_logistic_data()\n",
    "X_valid, y_valid, _ = generate_logistic_data()\n",
    "logreg_ccd.fit(X_train, y_train, X_valid, y_valid, [0])\n",
    "logreg_ccd.best_beta"
   ]
  },
  {
   "cell_type": "markdown",
   "metadata": {},
   "source": [
    "## Log-Loss history"
   ]
  },
  {
   "cell_type": "code",
   "execution_count": null,
   "metadata": {},
   "outputs": [
    {
     "data": {
      "image/png": "[encoded data removed]",
      "text/plain": [
       "<Figure size 640x480 with 1 Axes>"
      ]
     },
     "metadata": {},
     "output_type": "display_data"
    }
   ],
   "source": [
    "sonar = pd.read_csv('data/preprocessed_sonar.csv', header=0)\n",
    "sonar_labels = pd.read_csv('data/sonar_labels.csv', header=0)\n",
    "X = sonar.to_numpy()\n",
    "y = sonar_labels.to_numpy().flatten()\n",
    "logreg_ccd = LogRegCCD(max_iter=100)\n",
    "X = logreg_ccd.prepare_train_data(X)\n",
    "_, _, log_loss_history = logreg_ccd.fit(X, y, X, y, [0.0001], loss_history=True)\n",
    "plt.plot(log_loss_history)\n",
    "plt.xlabel('Iteration')\n",
    "plt.ylabel('Log Loss')\n",
    "plt.title('Log Loss History on Sonar dataset (lambda=0.0001)')\n",
    "plt.savefig('charts/log_loss_history_sonar.png', dpi=300)\n",
    "plt.show()"
   ]
  },
  {
   "cell_type": "code",
   "execution_count": null,
   "metadata": {},
   "outputs": [],
   "source": []
  }
 ],
 "metadata": {
  "kernelspec": {
   "display_name": ".venv",
   "language": "python",
   "name": "python3"
  },
  "language_info": {
   "codemirror_mode": {
    "name": "ipython",
    "version": 3
   },
   "file_extension": ".py",
   "mimetype": "text/x-python",
   "name": "python",
   "nbconvert_exporter": "python",
   "pygments_lexer": "ipython3",
   "version": "3.12.5"
  }
 },
 "nbformat": 4,
 "nbformat_minor": 2
}
