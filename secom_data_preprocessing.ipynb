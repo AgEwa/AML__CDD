{
 "cells": [
  {
   "cell_type": "code",
   "execution_count": 1,
   "metadata": {},
   "outputs": [],
   "source": [
    "import pandas as pd\n",
    "from statsmodels.stats.outliers_influence import variance_inflation_factor\n",
    "import numpy as np"
   ]
  },
  {
   "cell_type": "code",
   "execution_count": 2,
   "metadata": {},
   "outputs": [],
   "source": [
    "secom = pd.read_csv('secom/secom.data', sep=' ', header=None)\n",
    "secom_labels = pd.read_csv('secom/secom_labels.data', sep=' ', header=None)[0]"
   ]
  },
  {
   "cell_type": "code",
   "execution_count": 3,
   "metadata": {},
   "outputs": [
    {
     "data": {
      "text/plain": [
       "0       6\n",
       "1       7\n",
       "2      14\n",
       "3      14\n",
       "4      14\n",
       "       ..\n",
       "585     1\n",
       "586     1\n",
       "587     1\n",
       "588     1\n",
       "589     1\n",
       "Length: 590, dtype: int64"
      ]
     },
     "execution_count": 3,
     "metadata": {},
     "output_type": "execute_result"
    }
   ],
   "source": [
    "# check for missing values\n",
    "secom.isnull().sum(axis=0)"
   ]
  },
  {
   "cell_type": "code",
   "execution_count": 4,
   "metadata": {},
   "outputs": [],
   "source": [
    "# fill missing values with median\n",
    "secom = secom.fillna(secom.median())"
   ]
  },
  {
   "cell_type": "code",
   "execution_count": 5,
   "metadata": {},
   "outputs": [],
   "source": [
    "# remove columns with constant values\n",
    "secom = secom.loc[:, (secom != secom.iloc[0]).any()]"
   ]
  },
  {
   "cell_type": "code",
   "execution_count": 6,
   "metadata": {},
   "outputs": [],
   "source": [
    "def remove_highly_correlated_features(df, threshold=0.7):\n",
    "    corr_matrix = df.corr().abs()\n",
    "    upper_triangle = corr_matrix.where(np.triu(np.ones(corr_matrix.shape), k=1).astype(bool))\n",
    "\n",
    "    to_drop = [column for column in upper_triangle.columns if any(upper_triangle[column] > threshold)]\n",
    "    \n",
    "    print(f\"Removing {len(to_drop)} highly correlated features.\")\n",
    "    return df.drop(columns=to_drop)"
   ]
  },
  {
   "cell_type": "code",
   "execution_count": 7,
   "metadata": {},
   "outputs": [
    {
     "name": "stdout",
     "output_type": "stream",
     "text": [
      "Removing 260 highly correlated features.\n"
     ]
    }
   ],
   "source": [
    "# remove very highly correlated features before calculating VIF\n",
    "secom = remove_highly_correlated_features(secom)"
   ]
  },
  {
   "cell_type": "code",
   "execution_count": 8,
   "metadata": {},
   "outputs": [],
   "source": [
    "def vif(X):\n",
    "    X = np.asarray(X)\n",
    "    vif_scores = [variance_inflation_factor(X, i) for i in range(X.shape[1])]\n",
    "    return np.array(vif_scores)\n",
    "\n",
    "def remove_high_vif_features(df, threshold=10):\n",
    "    df = df.copy()\n",
    "    while True:\n",
    "        vif_scores = vif(df)\n",
    "        max_vif = np.max(vif_scores)\n",
    "\n",
    "        if max_vif < threshold:\n",
    "            break\n",
    "        \n",
    "        feature_to_remove = df.columns[np.argmax(vif_scores)]\n",
    "        print(f\"Dropping {feature_to_remove} with VIF: {max_vif}\")\n",
    "\n",
    "        df.drop(columns=[feature_to_remove], inplace=True)\n",
    "    \n",
    "    return df"
   ]
  },
  {
   "cell_type": "code",
   "execution_count": 9,
   "metadata": {},
   "outputs": [
    {
     "name": "stdout",
     "output_type": "stream",
     "text": [
      "Dropping 12 with VIF: 6172021.957747664\n",
      "Dropping 131 with VIF: 183020.05062763335\n",
      "Dropping 56 with VIF: 149341.35134765547\n",
      "Dropping 121 with VIF: 124419.0911097322\n",
      "Dropping 111 with VIF: 83694.35906938057\n",
      "Dropping 37 with VIF: 74945.33353973534\n",
      "Dropping 57 with VIF: 62222.93504736552\n",
      "Dropping 38 with VIF: 55952.023586762014\n",
      "Dropping 109 with VIF: 43121.62562668744\n",
      "Dropping 55 with VIF: 40114.109303712976\n",
      "Dropping 133 with VIF: 27756.098290591188\n",
      "Dropping 582 with VIF: 25649.768544194\n",
      "Dropping 45 with VIF: 16971.487220808107\n",
      "Dropping 116 with VIF: 16729.78688091883\n",
      "Dropping 119 with VIF: 14623.922975324243\n",
      "Dropping 85 with VIF: 13670.550440455583\n",
      "Dropping 44 with VIF: 12177.252043300092\n",
      "Dropping 87 with VIF: 11999.640413912539\n",
      "Dropping 11 with VIF: 10860.053039735196\n",
      "Dropping 110 with VIF: 10691.309908981679\n",
      "Dropping 20 with VIF: 10349.415146394163\n",
      "Dropping 53 with VIF: 10165.587389906068\n",
      "Dropping 547 with VIF: 9132.898006695152\n",
      "Dropping 61 with VIF: 8848.823706071486\n",
      "Dropping 2 with VIF: 7989.198723583603\n",
      "Dropping 113 with VIF: 7670.181058251287\n",
      "Dropping 118 with VIF: 6348.461886167951\n",
      "Dropping 48 with VIF: 5633.207271866865\n",
      "Dropping 43 with VIF: 5372.593045624702\n",
      "Dropping 18 with VIF: 5236.665138733677\n",
      "Dropping 58 with VIF: 4874.018670468768\n",
      "Dropping 132 with VIF: 4616.337810721739\n",
      "Dropping 86 with VIF: 4462.2228981167655\n",
      "Dropping 32 with VIF: 4044.9317783028246\n",
      "Dropping 19 with VIF: 3596.6614407708594\n",
      "Dropping 120 with VIF: 2767.9228713899747\n",
      "Dropping 542 with VIF: 2434.9190225792827\n",
      "Dropping 68 with VIF: 2202.8806759730064\n",
      "Dropping 0 with VIF: 1811.5976213151669\n",
      "Dropping 562 with VIF: 1651.8793322641156\n",
      "Dropping 570 with VIF: 1478.7730009730312\n",
      "Dropping 88 with VIF: 1206.3345568610127\n",
      "Dropping 90 with VIF: 1200.5464392530753\n",
      "Dropping 15 with VIF: 1099.4107713162148\n",
      "Dropping 1 with VIF: 1031.5790716274066\n",
      "Dropping 28 with VIF: 854.6890940054601\n",
      "Dropping 548 with VIF: 725.1201518831309\n",
      "Dropping 84 with VIF: 704.8309731389145\n",
      "Dropping 6 with VIF: 582.1300442233209\n",
      "Dropping 8 with VIF: 485.91392172971206\n",
      "Dropping 62 with VIF: 480.88143744428993\n",
      "Dropping 544 with VIF: 268.5707870282105\n",
      "Dropping 83 with VIF: 266.7480964798196\n",
      "Dropping 128 with VIF: 262.95494267486197\n",
      "Dropping 7 with VIF: 257.87454103747683\n",
      "Dropping 115 with VIF: 254.2571584610035\n",
      "Dropping 21 with VIF: 246.3181937694009\n",
      "Dropping 220 with VIF: 215.54754002633433\n",
      "Dropping 134 with VIF: 201.23091332596292\n",
      "Dropping 558 with VIF: 185.15414008405114\n",
      "Dropping 25 with VIF: 170.59729097658337\n",
      "Dropping 112 with VIF: 168.37396913162894\n",
      "Dropping 126 with VIF: 155.95365241202774\n",
      "Dropping 72 with VIF: 152.56841912448965\n",
      "Dropping 47 with VIF: 119.81577938091097\n",
      "Dropping 31 with VIF: 116.15104081015512\n",
      "Dropping 117 with VIF: 88.8895118126363\n",
      "Dropping 14 with VIF: 88.32581907622777\n",
      "Dropping 158 with VIF: 80.82943038162784\n",
      "Dropping 571 with VIF: 77.11745801588052\n",
      "Dropping 175 with VIF: 71.92972404165712\n",
      "Dropping 173 with VIF: 58.637351870196966\n",
      "Dropping 29 with VIF: 57.345552255621506\n",
      "Dropping 563 with VIF: 56.59151305405058\n",
      "Dropping 180 with VIF: 52.91470146474584\n",
      "Dropping 64 with VIF: 50.29012862953017\n",
      "Dropping 33 with VIF: 49.33677198498752\n",
      "Dropping 543 with VIF: 38.85987550108504\n",
      "Dropping 103 with VIF: 37.14652701683997\n",
      "Dropping 472 with VIF: 33.166871130885525\n",
      "Dropping 122 with VIF: 30.319897351438467\n",
      "Dropping 138 with VIF: 29.54646484588587\n",
      "Dropping 170 with VIF: 26.423586988924487\n",
      "Dropping 579 with VIF: 24.945821053981902\n",
      "Dropping 172 with VIF: 23.39246164382939\n",
      "Dropping 183 with VIF: 22.640871405715096\n",
      "Dropping 578 with VIF: 18.604563085186\n",
      "Dropping 16 with VIF: 18.47055730713262\n",
      "Dropping 71 with VIF: 17.649986117529973\n",
      "Dropping 255 with VIF: 16.90776583285815\n",
      "Dropping 550 with VIF: 16.029788748461776\n",
      "Dropping 168 with VIF: 15.965775245779556\n",
      "Dropping 89 with VIF: 15.765933737281415\n",
      "Dropping 176 with VIF: 15.634469506692227\n",
      "Dropping 216 with VIF: 15.396914071268922\n",
      "Dropping 136 with VIF: 14.733110181277317\n",
      "Dropping 3 with VIF: 14.497511441521215\n",
      "Dropping 238 with VIF: 13.882247799785414\n",
      "Dropping 225 with VIF: 13.746831674196242\n",
      "Dropping 268 with VIF: 13.389431751130125\n",
      "Dropping 200 with VIF: 13.048168675794418\n",
      "Dropping 269 with VIF: 12.679898698611531\n",
      "Dropping 143 with VIF: 12.574398005479912\n",
      "Dropping 182 with VIF: 12.401593526732483\n",
      "Dropping 423 with VIF: 12.3781369124363\n",
      "Dropping 146 with VIF: 12.00178473369336\n",
      "Dropping 239 with VIF: 11.91559224700633\n",
      "Dropping 167 with VIF: 11.805740440092048\n",
      "Dropping 218 with VIF: 11.384107339332523\n",
      "Dropping 157 with VIF: 11.021534792222075\n",
      "Dropping 460 with VIF: 10.936359334165068\n",
      "Dropping 142 with VIF: 10.560162494513898\n",
      "Dropping 63 with VIF: 10.36683450952939\n",
      "Dropping 40 with VIF: 10.280934617010326\n"
     ]
    }
   ],
   "source": [
    "# remove features with VIF > 10\n",
    "secom = remove_high_vif_features(secom)"
   ]
  },
  {
   "cell_type": "code",
   "execution_count": 10,
   "metadata": {},
   "outputs": [
    {
     "name": "stdout",
     "output_type": "stream",
     "text": [
      "Number of features left: 100\n"
     ]
    }
   ],
   "source": [
    "# check number of features left\n",
    "print(f\"Number of features left: {secom.shape[1]}\")"
   ]
  },
  {
   "cell_type": "code",
   "execution_count": 11,
   "metadata": {},
   "outputs": [],
   "source": [
    "secom_cleaned = secom.copy()"
   ]
  },
  {
   "cell_type": "code",
   "execution_count": 12,
   "metadata": {},
   "outputs": [
    {
     "data": {
      "text/plain": [
       "(1567, 783)"
      ]
     },
     "execution_count": 12,
     "metadata": {},
     "output_type": "execute_result"
    }
   ],
   "source": [
    "# create dummy variables\n",
    "n_obs, n_features = secom_cleaned.shape\n",
    "min_features = n_obs // 2\n",
    "\n",
    "i = 0\n",
    "new_columns = {}\n",
    "while secom_cleaned.shape[1] + len(new_columns) < min_features:\n",
    "    col_to_copy = np.random.choice(secom_cleaned.columns)\n",
    "    new_columns[f\"{col_to_copy}_perm_{i}\"] = np.random.permutation(secom_cleaned[col_to_copy].values)\n",
    "    i += 1\n",
    "\n",
    "df = pd.concat([secom_cleaned, pd.DataFrame(new_columns)], axis=1)\n",
    "\n",
    "df.shape\n"
   ]
  },
  {
   "cell_type": "code",
   "execution_count": 13,
   "metadata": {},
   "outputs": [
    {
     "data": {
      "text/plain": [
       "0       0\n",
       "1       0\n",
       "2       1\n",
       "3       0\n",
       "4       0\n",
       "       ..\n",
       "1562    0\n",
       "1563    0\n",
       "1564    0\n",
       "1565    0\n",
       "1566    0\n",
       "Name: label, Length: 1567, dtype: int64"
      ]
     },
     "execution_count": 13,
     "metadata": {},
     "output_type": "execute_result"
    }
   ],
   "source": [
    "secom_labels.rename('label', inplace=True)\n",
    "secom_labels = secom_labels.map({1: 1, -1: 0})\n",
    "secom_labels"
   ]
  },
  {
   "cell_type": "code",
   "execution_count": 14,
   "metadata": {},
   "outputs": [],
   "source": [
    "df.to_csv('data/preprocessed_secom.csv', index=False)\n",
    "secom_labels.to_csv('data/secom_labels.csv', index=False)"
   ]
  },
  {
   "cell_type": "code",
   "execution_count": null,
   "metadata": {},
   "outputs": [],
   "source": []
  }
 ],
 "metadata": {
  "kernelspec": {
   "display_name": ".venv",
   "language": "python",
   "name": "python3"
  },
  "language_info": {
   "codemirror_mode": {
    "name": "ipython",
    "version": 3
   },
   "file_extension": ".py",
   "mimetype": "text/x-python",
   "name": "python",
   "nbconvert_exporter": "python",
   "pygments_lexer": "ipython3",
   "version": "3.12.5"
  }
 },
 "nbformat": 4,
 "nbformat_minor": 2
}
